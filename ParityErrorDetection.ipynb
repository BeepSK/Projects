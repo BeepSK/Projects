{
 "cells": [
  {
   "cell_type": "markdown",
   "id": "01a6222e-2fa3-4e77-9527-3d762e957ab6",
   "metadata": {},
   "source": [
    "This is a error detection calculator that works according to the parity method.\n",
    "Since this method works for the binary number system, the program will only work binary numbers.\n",
    "To make things easier, I will also make a binary calculator in order to turn numbers from other systems in binary ones. "
   ]
  },
  {
   "cell_type": "markdown",
   "id": "4c488c24-37d8-434b-8a6c-d883ae338a5c",
   "metadata": {},
   "source": [
    "Okay so about the error detection method we are going to use here.\n",
    "### Even Parity: \n",
    "In this method we count the number of 1's in the data bit and see if it is even or not. If it is even, we leave the code as is. If it is odd, we add an extra 1 to the bit to make the count even. \n",
    "### Odd Parity:\n",
    "The same goes for this method as well. It's just that we count the number of 1's and if the count is even, we add a 1 to make it odd. If already odd, we leave it as is. \n",
    "\n",
    "So, we need two separate calculators for both types of parity"
   ]
  },
  {
   "cell_type": "code",
   "execution_count": null,
   "id": "b4c82388-f72f-4a05-8b4d-e43bde9477d1",
   "metadata": {},
   "outputs": [],
   "source": [
    "%pip install num2words"
   ]
  },
  {
   "cell_type": "code",
   "execution_count": 1,
   "id": "6ca21fc5-97b0-465f-9c3b-68ed6b748f27",
   "metadata": {},
   "outputs": [],
   "source": [
    "import num2words"
   ]
  },
  {
   "cell_type": "code",
   "execution_count": 2,
   "id": "73ffaac0-be3d-4696-8b00-2dbe25a60273",
   "metadata": {},
   "outputs": [
    {
     "name": "stdin",
     "output_type": "stream",
     "text": [
      "What's the number?  158\n"
     ]
    },
    {
     "name": "stdout",
     "output_type": "stream",
     "text": [
      "Binary: 10011110\n",
      "According to the even parity method, there is an odd number of 1's here: 5. To fix this, we add an extra 1 to the bit: 110011110. Now, we have six 1's here.\n",
      "According to the odd parity method, the number stays as is because we have an odd number of ones: 5.\n"
     ]
    }
   ],
   "source": [
    "#This calculator will tell you the answer based on both calculation methods. \n",
    "#This is the even parity error detection calculator.\n",
    "def even_parity(res):\n",
    "    strres = str(res)\n",
    "    strr = strres.count(\"1\")\n",
    "    \n",
    "    if strr % 2 == 0:\n",
    "        print(f\"According to the even parity method, the number stays as is because we have an even number of ones: {strr}.\")\n",
    "    else:\n",
    "        add = \"1\" + strres \n",
    "        print(f\"According to the even parity method, there is an odd number of 1's here: {strr}. To fix this, we add an extra 1 to the bit: {add}. Now, we have {num2words.num2words(add.count(\"1\"))} 1's here.\")\n",
    "\n",
    "#This is the odd parity error detection calculator.\n",
    "def odd_parity(res):\n",
    "    strres = str(res)\n",
    "    strr = strres.count(\"1\")\n",
    "    \n",
    "    if strr % 2 != 0:\n",
    "        print(f\"According to the odd parity method, the number stays as is because we have an odd number of ones: {strr}.\")\n",
    "    else:\n",
    "        add = \"1\" + strres \n",
    "        print(f\"According to the odd parity method, there is an even number of 1's here: {strr}. To fix this, we add an extra 1 to the bit: {add}. Now, we have {num2words.num2words(add.count(\"1\"))} 1's here.\")\n",
    "        \n",
    "def calculator():\n",
    "    def binary_or_not():\n",
    "        ask = input(\"What's the number? \")\n",
    "        res = ''\n",
    "\n",
    "        if all(char in '01' for char in ask):\n",
    "            print(\"The number is already binary.\")\n",
    "            sure = input(\"Was the number actually decimal? (yes/no): \")\n",
    "            if sure.lower() in ['yes', 'yeah']:\n",
    "                ask = int(ask)\n",
    "                while ask > 0:\n",
    "                    res = str(ask % 2) + res\n",
    "                    ask //= 2\n",
    "                print(f\"Converted to binary: {res}\")\n",
    "            else:\n",
    "                print(\"You can proceed then.\")\n",
    "                res = ask \n",
    "        else:\n",
    "            ask = int(ask)\n",
    "            while ask > 0:\n",
    "                res = str(ask % 2) + res\n",
    "                ask //= 2\n",
    "            print(f\"Binary: {res}\")\n",
    "        return res  \n",
    "        \n",
    "    res = binary_or_not()  \n",
    "    even_parity(res)\n",
    "    odd_parity(res)\n",
    "\n",
    "calculator()"
   ]
  },
  {
   "cell_type": "code",
   "execution_count": null,
   "id": "108d3eb1-ec80-4400-a786-0e5a20733e5f",
   "metadata": {},
   "outputs": [],
   "source": []
  }
 ],
 "metadata": {
  "kernelspec": {
   "display_name": "Python 3 (ipykernel)",
   "language": "python",
   "name": "python3"
  },
  "language_info": {
   "codemirror_mode": {
    "name": "ipython",
    "version": 3
   },
   "file_extension": ".py",
   "mimetype": "text/x-python",
   "name": "python",
   "nbconvert_exporter": "python",
   "pygments_lexer": "ipython3",
   "version": "3.12.10"
  }
 },
 "nbformat": 4,
 "nbformat_minor": 5
}
